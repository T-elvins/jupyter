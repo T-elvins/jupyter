{
 "cells": [
  {
   "cell_type": "code",
   "execution_count": 3,
   "id": "24bb779e-c59f-46ca-b118-963ea346cafe",
   "metadata": {},
   "outputs": [
    {
     "name": "stdout",
     "output_type": "stream",
     "text": [
      "sorry, you lose,\n"
     ]
    }
   ],
   "source": [
    "width = 0\n",
    "height = 0 \n",
    "color = 'red'\n",
    "emphasis = 'strong'\n",
    "\n",
    "if width ==  0 and height == 0 and color == 'red' and emphasis == 'strong' or highlight >100:\n",
    " print('sorry, you lose,')"
   ]
  },
  {
   "cell_type": "code",
   "execution_count": 8,
   "id": "8c0c0ff9-7ce4-4407-b029-56627f141600",
   "metadata": {},
   "outputs": [
    {
     "name": "stdin",
     "output_type": "stream",
     "text": [
      "enter the radius ; 4.0\n"
     ]
    },
    {
     "name": "stdout",
     "output_type": "stream",
     "text": [
      "radius of the circle 4.0\n",
      "area of the circle 50.24\n",
      "circumfrence of the circle 25.12\n"
     ]
    }
   ],
   "source": [
    "pI = 3.14\n",
    "radius = float(input('enter the radius ;'))\n",
    "circum = pI * radius * radius\n",
    "area = 2.0 *pI * radius\n",
    "\n",
    "print('radius of the circle', radius)\n",
    "print('area of the circle', circum)\n",
    "print('circumfrence of the circle', area)\n"
   ]
  },
  {
   "cell_type": "code",
   "execution_count": 9,
   "id": "5ffd188f-5a52-4e47-8353-54162946803d",
   "metadata": {},
   "outputs": [
    {
     "data": {
      "text/plain": [
       "int"
      ]
     },
     "execution_count": 9,
     "metadata": {},
     "output_type": "execute_result"
    }
   ],
   "source": [
    "type(200)  #let you know data type of 200"
   ]
  },
  {
   "cell_type": "code",
   "execution_count": 10,
   "id": "21f204d2-d668-4e4f-a9d5-6ca1fcd462a3",
   "metadata": {},
   "outputs": [
    {
     "data": {
      "text/plain": [
       "float"
      ]
     },
     "execution_count": 10,
     "metadata": {},
     "output_type": "execute_result"
    }
   ],
   "source": [
    "type(100.0) # let you know data type of 100"
   ]
  },
  {
   "cell_type": "code",
   "execution_count": 11,
   "id": "aac98178-2172-4f84-a9c9-52a08cc45e7a",
   "metadata": {},
   "outputs": [
    {
     "data": {
      "text/plain": [
       "str"
      ]
     },
     "execution_count": 11,
     "metadata": {},
     "output_type": "execute_result"
    }
   ],
   "source": [
    "type('200') # let you know the data type 200"
   ]
  },
  {
   "cell_type": "code",
   "execution_count": 15,
   "id": "630289bf-6a5c-4a6b-ae34-61e4f36afece",
   "metadata": {},
   "outputs": [
    {
     "ename": "SyntaxError",
     "evalue": "cannot assign to function call here. Maybe you meant '==' instead of '='? (1369062854.py, line 1)",
     "output_type": "error",
     "traceback": [
      "\u001b[1;36m  Cell \u001b[1;32mIn[15], line 1\u001b[1;36m\u001b[0m\n\u001b[1;33m    print(python) = \"my hello world,\" + 10\u001b[0m\n\u001b[1;37m    ^\u001b[0m\n\u001b[1;31mSyntaxError\u001b[0m\u001b[1;31m:\u001b[0m cannot assign to function call here. Maybe you meant '==' instead of '='?\n"
     ]
    }
   ],
   "source": [
    "print(python) = \"my hello world,\" + 10"
   ]
  },
  {
   "cell_type": "code",
   "execution_count": 16,
   "id": "c10a4681-7e23-45de-8f57-b02382549797",
   "metadata": {},
   "outputs": [
    {
     "ename": "TypeError",
     "evalue": "can only concatenate str (not \"int\") to str",
     "output_type": "error",
     "traceback": [
      "\u001b[1;31m---------------------------------------------------------------------------\u001b[0m",
      "\u001b[1;31mTypeError\u001b[0m                                 Traceback (most recent call last)",
      "Cell \u001b[1;32mIn[16], line 1\u001b[0m\n\u001b[1;32m----> 1\u001b[0m python \u001b[38;5;241m=\u001b[39m \u001b[38;5;124m\"\u001b[39m\u001b[38;5;124mmy hello world,\u001b[39m\u001b[38;5;124m\"\u001b[39m \u001b[38;5;241m+\u001b[39m \u001b[38;5;241m10\u001b[39m\n",
      "\u001b[1;31mTypeError\u001b[0m: can only concatenate str (not \"int\") to str"
     ]
    }
   ],
   "source": [
    "python = \"my hello world,\" + 10"
   ]
  },
  {
   "cell_type": "code",
   "execution_count": 20,
   "id": "834af72e-4cd5-4ad8-8164-5f112c2007bc",
   "metadata": {},
   "outputs": [
    {
     "ename": "TypeError",
     "evalue": "can only concatenate str (not \"int\") to str",
     "output_type": "error",
     "traceback": [
      "\u001b[1;31m---------------------------------------------------------------------------\u001b[0m",
      "\u001b[1;31mTypeError\u001b[0m                                 Traceback (most recent call last)",
      "Cell \u001b[1;32mIn[20], line 1\u001b[0m\n\u001b[1;32m----> 1\u001b[0m python \u001b[38;5;241m=\u001b[39m \u001b[38;5;124m\"\u001b[39m\u001b[38;5;124mmy hello world\u001b[39m\u001b[38;5;124m\"\u001b[39m \u001b[38;5;241m+\u001b[39m \u001b[38;5;241m10\u001b[39m\n\u001b[0;32m      2\u001b[0m \u001b[38;5;28mprint\u001b[39m (python)\n",
      "\u001b[1;31mTypeError\u001b[0m: can only concatenate str (not \"int\") to str"
     ]
    }
   ],
   "source": [
    "python = \"my hello world\" + 10\n",
    "print (python)"
   ]
  },
  {
   "cell_type": "code",
   "execution_count": 22,
   "id": "8415895c-104a-49f5-aa2e-76d170a9a7dc",
   "metadata": {},
   "outputs": [
    {
     "name": "stdout",
     "output_type": "stream",
     "text": [
      "20\n"
     ]
    }
   ],
   "source": [
    "python = 10+10\n",
    "print(python)"
   ]
  },
  {
   "cell_type": "code",
   "execution_count": 23,
   "id": "10fda177-e687-43a6-8935-6c8efbfd9428",
   "metadata": {},
   "outputs": [
    {
     "name": "stdout",
     "output_type": "stream",
     "text": [
      "helloworld\n"
     ]
    }
   ],
   "source": [
    "python = \"hello\" + \"world\"\n",
    "print(python)"
   ]
  },
  {
   "cell_type": "code",
   "execution_count": null,
   "id": "cb9a1720-23aa-4664-bcd8-b98c58d74ed8",
   "metadata": {},
   "outputs": [],
   "source": []
  },
  {
   "cell_type": "code",
   "execution_count": 24,
   "id": "6b891d73-31a7-4451-8687-4936d7d1e305",
   "metadata": {},
   "outputs": [
    {
     "data": {
      "text/plain": [
       "1"
      ]
     },
     "execution_count": 24,
     "metadata": {},
     "output_type": "execute_result"
    }
   ],
   "source": [
    "5//3"
   ]
  },
  {
   "cell_type": "code",
   "execution_count": 25,
   "id": "3a6942ff-9cb1-49b4-880f-e7605a579f1d",
   "metadata": {},
   "outputs": [
    {
     "data": {
      "text/plain": [
       "20"
      ]
     },
     "execution_count": 25,
     "metadata": {},
     "output_type": "execute_result"
    }
   ],
   "source": [
    "4*5"
   ]
  },
  {
   "cell_type": "code",
   "execution_count": 27,
   "id": "aa14c32e-f1b7-4f12-8201-e0865f75c96e",
   "metadata": {},
   "outputs": [
    {
     "data": {
      "text/plain": [
       "1000"
      ]
     },
     "execution_count": 27,
     "metadata": {},
     "output_type": "execute_result"
    }
   ],
   "source": [
    "10**3"
   ]
  },
  {
   "cell_type": "code",
   "execution_count": 29,
   "id": "81869af9-1f47-4916-aead-3984b7b319b9",
   "metadata": {},
   "outputs": [
    {
     "data": {
      "text/plain": [
       "1.8"
      ]
     },
     "execution_count": 29,
     "metadata": {},
     "output_type": "execute_result"
    }
   ],
   "source": [
    "9/5"
   ]
  },
  {
   "cell_type": "code",
   "execution_count": 30,
   "id": "7194ab66-9f24-4c72-b7d1-f2deb31e307a",
   "metadata": {},
   "outputs": [
    {
     "data": {
      "text/plain": [
       "49"
      ]
     },
     "execution_count": 30,
     "metadata": {},
     "output_type": "execute_result"
    }
   ],
   "source": [
    "(3+4) * (5+2)"
   ]
  },
  {
   "cell_type": "code",
   "execution_count": 31,
   "id": "91c9d6b1-b4dc-48af-9b4c-8d56b4726386",
   "metadata": {},
   "outputs": [
    {
     "data": {
      "text/plain": [
       "1.0"
      ]
     },
     "execution_count": 31,
     "metadata": {},
     "output_type": "execute_result"
    }
   ],
   "source": [
    "(3+4) / (5+2)"
   ]
  },
  {
   "cell_type": "code",
   "execution_count": 32,
   "id": "772a1b28-bce7-4b34-923e-be7caee328e5",
   "metadata": {},
   "outputs": [],
   "source": [
    "age=\"10\""
   ]
  },
  {
   "cell_type": "code",
   "execution_count": 33,
   "id": "b9730f7b-0a6f-47bf-a24b-d9a30f7d78b7",
   "metadata": {},
   "outputs": [],
   "source": [
    "age=10"
   ]
  },
  {
   "cell_type": "code",
   "execution_count": 34,
   "id": "e7034e09-b649-4c9c-9bc0-ed94abf3d603",
   "metadata": {},
   "outputs": [
    {
     "data": {
      "text/plain": [
       "70"
      ]
     },
     "execution_count": 34,
     "metadata": {},
     "output_type": "execute_result"
    }
   ],
   "source": [
    "int(\"50\")+20"
   ]
  },
  {
   "cell_type": "code",
   "execution_count": 44,
   "id": "606d3d04-1829-47dc-9467-84ea7e1a4565",
   "metadata": {},
   "outputs": [
    {
     "ename": "SyntaxError",
     "evalue": "cannot assign to literal here. Maybe you meant '==' instead of '='? (3198616324.py, line 1)",
     "output_type": "error",
     "traceback": [
      "\u001b[1;36m  Cell \u001b[1;32mIn[44], line 1\u001b[1;36m\u001b[0m\n\u001b[1;33m    \"10\"=string(10)\u001b[0m\n\u001b[1;37m    ^\u001b[0m\n\u001b[1;31mSyntaxError\u001b[0m\u001b[1;31m:\u001b[0m cannot assign to literal here. Maybe you meant '==' instead of '='?\n"
     ]
    }
   ],
   "source": [
    "\"10\"=string(10)"
   ]
  },
  {
   "cell_type": "code",
   "execution_count": 37,
   "id": "1eeeaa31-7885-46f3-8349-844262973265",
   "metadata": {},
   "outputs": [
    {
     "data": {
      "text/plain": [
       "'helloworld'"
      ]
     },
     "execution_count": 37,
     "metadata": {},
     "output_type": "execute_result"
    }
   ],
   "source": [
    "\"hello\" + \"world\""
   ]
  },
  {
   "cell_type": "code",
   "execution_count": 38,
   "id": "b68e5850-8c29-4326-ab7e-fd4d377e7f84",
   "metadata": {},
   "outputs": [
    {
     "data": {
      "text/plain": [
       "'hello world'"
      ]
     },
     "execution_count": 38,
     "metadata": {},
     "output_type": "execute_result"
    }
   ],
   "source": [
    "\"hello \" + \"world\""
   ]
  },
  {
   "cell_type": "code",
   "execution_count": 40,
   "id": "612c4b81-a05a-44e2-ab92-f47c08f9a764",
   "metadata": {},
   "outputs": [
    {
     "data": {
      "text/plain": [
       "'textrepeatrepeatrepeatrepeatrepeatrepeatrepeatrepeatrepeatrepeat'"
      ]
     },
     "execution_count": 40,
     "metadata": {},
     "output_type": "execute_result"
    }
   ],
   "source": [
    "\"text\" + \"repeat\" *10"
   ]
  },
  {
   "cell_type": "code",
   "execution_count": 47,
   "id": "93e11317-a4c9-4f03-92cf-609fe71d2a73",
   "metadata": {},
   "outputs": [
    {
     "data": {
      "text/plain": [
       "'textrepeatrepeatrepeatrepeatrepeatrepeatrepeatrepeatrepeatrepeat'"
      ]
     },
     "execution_count": 47,
     "metadata": {},
     "output_type": "execute_result"
    }
   ],
   "source": [
    "\"text\" + \"repeat\" *10"
   ]
  },
  {
   "cell_type": "code",
   "execution_count": 49,
   "id": "abbe0693-d14b-41d4-8a42-a9e974483ec9",
   "metadata": {},
   "outputs": [
    {
     "name": "stdout",
     "output_type": "stream",
     "text": [
      "\"double quatation marks\"\n"
     ]
    }
   ],
   "source": [
    "print(\"\\\"double quatation marks\\\"\")"
   ]
  },
  {
   "cell_type": "code",
   "execution_count": 53,
   "id": "c570138b-79f1-4727-8b75-a78f82acecb1",
   "metadata": {},
   "outputs": [
    {
     "name": "stdout",
     "output_type": "stream",
     "text": [
      "'single quatation mark'\n"
     ]
    }
   ],
   "source": [
    "print(\"\\'single quatation mark\\'\")"
   ]
  },
  {
   "cell_type": "code",
   "execution_count": 57,
   "id": "3ee63c56-4bc1-4902-91b4-d02bf4c6de87",
   "metadata": {},
   "outputs": [
    {
     "name": "stdout",
     "output_type": "stream",
     "text": [
      "line\n",
      "break\n"
     ]
    }
   ],
   "source": [
    "print(\"line\\nbreak\")"
   ]
  },
  {
   "cell_type": "code",
   "execution_count": 58,
   "id": "ccac0e51-c0c3-4883-8cd0-83b2874bebbe",
   "metadata": {},
   "outputs": [
    {
     "name": "stdout",
     "output_type": "stream",
     "text": [
      "linreak\n"
     ]
    }
   ],
   "source": [
    "print(\"line\\break\")"
   ]
  },
  {
   "cell_type": "code",
   "execution_count": 59,
   "id": "42bdbb69-7ca3-492a-a39f-e39504db3f9e",
   "metadata": {},
   "outputs": [
    {
     "ename": "IndexError",
     "evalue": "string index out of range",
     "output_type": "error",
     "traceback": [
      "\u001b[1;31m---------------------------------------------------------------------------\u001b[0m",
      "\u001b[1;31mIndexError\u001b[0m                                Traceback (most recent call last)",
      "Cell \u001b[1;32mIn[59], line 1\u001b[0m\n\u001b[1;32m----> 1\u001b[0m \u001b[38;5;124m\"\u001b[39m\u001b[38;5;124mhello\u001b[39m\u001b[38;5;124m\"\u001b[39m[\u001b[38;5;241m5\u001b[39m]\n",
      "\u001b[1;31mIndexError\u001b[0m: string index out of range"
     ]
    }
   ],
   "source": [
    "\"hello\"[5]"
   ]
  },
  {
   "cell_type": "code",
   "execution_count": 60,
   "id": "4a7c2142-fa96-4160-a625-325d8ff3c3a2",
   "metadata": {},
   "outputs": [
    {
     "name": "stdout",
     "output_type": "stream",
     "text": [
      "python keyword list...\n",
      "['False', 'None', 'True', 'and', 'as', 'assert', 'async', 'await', 'break', 'class', 'continue', 'def', 'del', 'elif', 'else', 'except', 'finally', 'for', 'from', 'global', 'if', 'import', 'in', 'is', 'lambda', 'nonlocal', 'not', 'or', 'pass', 'raise', 'return', 'try', 'while', 'with', 'yield']\n"
     ]
    }
   ],
   "source": [
    "import keyword\n",
    "# search for python keywords\n",
    "print(\"python keyword list...\")\n",
    "print(keyword.kwlist)"
   ]
  },
  {
   "cell_type": "code",
   "execution_count": 61,
   "id": "01917c42-3871-4cef-957a-d848889936ec",
   "metadata": {},
   "outputs": [
    {
     "name": "stdout",
     "output_type": "stream",
     "text": [
      "<class 'int'>\n",
      "<class 'float'>\n",
      "<class 'str'>\n"
     ]
    }
   ],
   "source": [
    "num = 85\n",
    "print(type(num))\n",
    "\n",
    "p1 =3.14159\n",
    "print(type(p1))\n",
    "\n",
    "message = \"good morning\"\n",
    "print(type(message))"
   ]
  },
  {
   "cell_type": "code",
   "execution_count": null,
   "id": "3e5a836b-b0b8-4a8f-90de-dc318b103f1f",
   "metadata": {},
   "outputs": [],
   "source": []
  }
 ],
 "metadata": {
  "kernelspec": {
   "display_name": "Python 3 (ipykernel)",
   "language": "python",
   "name": "python3"
  },
  "language_info": {
   "codemirror_mode": {
    "name": "ipython",
    "version": 3
   },
   "file_extension": ".py",
   "mimetype": "text/x-python",
   "name": "python",
   "nbconvert_exporter": "python",
   "pygments_lexer": "ipython3",
   "version": "3.11.7"
  }
 },
 "nbformat": 4,
 "nbformat_minor": 5
}
